{
 "cells": [
  {
   "cell_type": "code",
   "execution_count": 9,
   "metadata": {},
   "outputs": [],
   "source": [
    "import os\n",
    "import csv\n",
    "import numpy as np\n",
    "import shutil\n",
    "\n",
    "def getGlobalGridFromFolder(numProcs, numCells, timeSteps,  foldername):\n",
    "    P = int((pow(numProcs, 0.5)))\n",
    "    N = int((pow(numCells, 0.5)))\n",
    "    timeGrid = np.zeros([timeSteps, P*N, P*N])\n",
    "    for filename in os.listdir(foldername):\n",
    "        filepath = os.path.join(foldername, filename)\n",
    "        with open(filepath) as csvfile:\n",
    "            entries = csv.reader(csvfile, delimiter=',')\n",
    "            entries = list(entries)\n",
    "            for entry in entries:\n",
    "                t = int(entry[0])\n",
    "                r = int(entry[1])\n",
    "                c = int(entry[2])\n",
    "                val = float(entry[3])\n",
    "                timeGrid[t][r][c] = val\n",
    "                \n",
    "    return timeGrid\n"
   ]
  },
  {
   "cell_type": "code",
   "execution_count": 10,
   "metadata": {},
   "outputs": [],
   "source": [
    "def make_the_new_input_file(temp_grid, numProcs, numCells, filename):\n",
    "    P = int((pow(numProcs, 0.5)))\n",
    "    N = int((pow(numCells, 0.5)))\n",
    "    arrSize = P*N\n",
    "    f = open(filename, \"w\")\n",
    "    f.seek(0)\n",
    "    for r in range(arrSize):\n",
    "        for c in range(arrSize):\n",
    "            f.write(str(temp_grid[0][r][c]) + \"\\n\")\n",
    "    f.close()\n",
    "    return"
   ]
  },
  {
   "cell_type": "code",
   "execution_count": 11,
   "metadata": {},
   "outputs": [],
   "source": [
    "numProcs = 4\n",
    "numCells = 4\n",
    "timeSteps = 3\n",
    "\n",
    "P = int((pow(numProcs, 0.5)))\n",
    "N = int((pow(numCells, 0.5)))\n",
    "timeGrid = getGlobalGridFromFolder(numProcs, numCells, timeSteps, './all_ranks')\n",
    "make_the_new_input_file(timeGrid, numProcs, numCells, 'input_proc_1')"
   ]
  },
  {
   "cell_type": "code",
   "execution_count": 12,
   "metadata": {},
   "outputs": [
    {
     "data": {
      "text/plain": [
       "array([[[3.      , 6.      , 3.      , 6.      ],\n",
       "        [7.      , 5.      , 7.      , 5.      ],\n",
       "        [3.      , 6.      , 3.      , 6.      ],\n",
       "        [7.      , 5.      , 7.      , 5.      ]],\n",
       "\n",
       "       [[6.5     , 3.666667, 6.333333, 4.      ],\n",
       "        [3.666667, 6.5     , 4.      , 6.333333],\n",
       "        [6.666667, 4.      , 6.5     , 4.333333],\n",
       "        [4.      , 6.666667, 4.333333, 6.5     ]],\n",
       "\n",
       "       [[3.666667, 6.444444, 3.888889, 6.333333],\n",
       "        [6.555556, 3.833333, 6.416667, 4.111111],\n",
       "        [3.888889, 6.583333, 4.166667, 6.444444],\n",
       "        [6.666667, 4.111111, 6.555556, 4.333333]]])"
      ]
     },
     "execution_count": 12,
     "metadata": {},
     "output_type": "execute_result"
    }
   ],
   "source": [
    "timeGrid"
   ]
  },
  {
   "cell_type": "code",
   "execution_count": 14,
   "metadata": {},
   "outputs": [
    {
     "data": {
      "text/plain": [
       "array([[[3.      , 6.      , 3.      , 6.      ],\n",
       "        [7.      , 5.      , 7.      , 5.      ],\n",
       "        [3.      , 6.      , 3.      , 6.      ],\n",
       "        [7.      , 5.      , 7.      , 5.      ]],\n",
       "\n",
       "       [[6.5     , 3.666667, 6.333333, 4.      ],\n",
       "        [3.666667, 6.5     , 4.      , 6.333333],\n",
       "        [6.666667, 4.      , 6.5     , 4.333333],\n",
       "        [4.      , 6.666667, 4.333333, 6.5     ]],\n",
       "\n",
       "       [[3.666667, 6.444444, 3.888889, 6.333333],\n",
       "        [6.555556, 3.833333, 6.416667, 4.111111],\n",
       "        [3.888889, 6.583333, 4.166667, 6.444444],\n",
       "        [6.666667, 4.111111, 6.555556, 4.333333]]])"
      ]
     },
     "execution_count": 14,
     "metadata": {},
     "output_type": "execute_result"
    }
   ],
   "source": [
    "timeGrid2 = getGlobalGridFromFolder(numProcs, numCells, timeSteps , 'single_proc')\n",
    "timeGrid2"
   ]
  },
  {
   "cell_type": "code",
   "execution_count": null,
   "metadata": {},
   "outputs": [],
   "source": []
  }
 ],
 "metadata": {
  "kernelspec": {
   "display_name": "Python 3",
   "language": "python",
   "name": "python3"
  },
  "language_info": {
   "codemirror_mode": {
    "name": "ipython",
    "version": 3
   },
   "file_extension": ".py",
   "mimetype": "text/x-python",
   "name": "python",
   "nbconvert_exporter": "python",
   "pygments_lexer": "ipython3",
   "version": "3.5.2"
  }
 },
 "nbformat": 4,
 "nbformat_minor": 4
}
