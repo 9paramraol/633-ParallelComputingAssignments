{
 "cells": [
  {
   "cell_type": "code",
   "execution_count": 108,
   "metadata": {},
   "outputs": [],
   "source": [
    "### taking the file as input and giving a list of format [[time, row, col, val]...]\n",
    "import csv\n",
    "\n",
    "def file_to_list(fname):\n",
    "    temp_list = []\n",
    "    flag = True\n",
    "    with open('final', newline='') as csvfile:\n",
    "        entries = csv.reader(csvfile, delimiter=',')\n",
    "        for row in entries:\n",
    "            if(flag):\n",
    "                flag = False\n",
    "                continue\n",
    "            temp_list.append(row)\n",
    "    return temp_list\n",
    "\n",
    "def list_to_dictionary(temp_list, timeSteps, arrSize):\n",
    "    ans_grid = {}\n",
    "    for t in range(timeSteps):\n",
    "        ans_grid[t] = [[0 for i in range(arrSize)] for j in range(arrSize)]\n",
    "    for row in temp_list:\n",
    "        t = int(row[0]); r = int(row[1]); c = int(row[2])\n",
    "        val = float(row[3])\n",
    "        ans_grid[t][r][c] = val\n",
    "    return ans_grid\n",
    "\n",
    "def make_the_new_input_file(temp_grid, arrSize, fname):\n",
    "    f = open(fname, \"a\")\n",
    "    f.seek(0)\n",
    "    for r in range(arrSize):\n",
    "        for c in range(arrSize):\n",
    "            f.write(str(temp_grid[0][r][c]) + \"\\n\")\n",
    "    f.close()\n",
    "    return\n",
    "\n",
    "def min_diff(gridA, gridB, arrSize, limit):\n",
    "    for r in range(arrSize):\n",
    "        for c in range(arrSize):\n",
    "            diff = abs(gridA[r][c]-gridB[r][c])\n",
    "            if(diff>limit):\n",
    "                return False\n",
    "    return True"
   ]
  },
  {
   "cell_type": "code",
   "execution_count": 116,
   "metadata": {},
   "outputs": [],
   "source": [
    "### set the input in this cell\n",
    "rootP = 4; rootN = 16; timeSteps = 50\n",
    "\n",
    "\n",
    "arrSize = rootP*rootN\n",
    "original_list = file_to_list(\"final\")\n",
    "time_grid = list_to_dictionary(original_list, timeSteps, arrSize)\n",
    "\n",
    "make_the_new_input_file(time_grid, arrSize, \"input_proc_1\")\n",
    "\n"
   ]
  },
  {
   "cell_type": "code",
   "execution_count": 117,
   "metadata": {},
   "outputs": [],
   "source": [
    "new_list = file_to_list(\"nfinal\")\n",
    "new_time_grid = list_to_dictionary(new_list, timeSteps, arrSize)\n",
    "for ts in time_grid:\n",
    "    if not(min_diff(time_grid[ts], new_time_grid[ts], arrSize, 0.00001)):\n",
    "        print(ts)"
   ]
  },
  {
   "cell_type": "code",
   "execution_count": 127,
   "metadata": {},
   "outputs": [
    {
     "name": "stdout",
     "output_type": "stream",
     "text": [
      "4.681106\n",
      "4.681106\n"
     ]
    }
   ],
   "source": [
    "print(time_grid[25][20][20])\n",
    "print(new_time_grid[25][20][20])"
   ]
  },
  {
   "cell_type": "code",
   "execution_count": null,
   "metadata": {},
   "outputs": [],
   "source": []
  },
  {
   "cell_type": "code",
   "execution_count": null,
   "metadata": {},
   "outputs": [],
   "source": []
  },
  {
   "cell_type": "code",
   "execution_count": null,
   "metadata": {},
   "outputs": [],
   "source": []
  }
 ],
 "metadata": {
  "kernelspec": {
   "display_name": "Python 3",
   "language": "python",
   "name": "python3"
  },
  "language_info": {
   "codemirror_mode": {
    "name": "ipython",
    "version": 3
   },
   "file_extension": ".py",
   "mimetype": "text/x-python",
   "name": "python",
   "nbconvert_exporter": "python",
   "pygments_lexer": "ipython3",
   "version": "3.5.2"
  }
 },
 "nbformat": 4,
 "nbformat_minor": 4
}
