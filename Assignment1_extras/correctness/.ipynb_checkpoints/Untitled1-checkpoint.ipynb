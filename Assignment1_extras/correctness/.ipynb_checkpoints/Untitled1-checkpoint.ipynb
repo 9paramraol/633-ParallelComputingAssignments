{
 "cells": [
  {
   "cell_type": "code",
   "execution_count": 2,
   "metadata": {},
   "outputs": [],
   "source": [
    "import os\n",
    "import csv\n",
    "import numpy as np\n",
    "import shutil\n",
    "\n",
    "def getGlobalGridFromFolder(numProcs, numCells, timeSteps,  foldername):\n",
    "    P = int((pow(numProcs, 0.5)))\n",
    "    N = int((pow(numCells, 0.5)))\n",
    "    timeGrid = np.zeros([timeSteps, P*N, P*N])\n",
    "    for filename in os.listdir(foldername):\n",
    "        filepath = os.path.join(foldername, filename)\n",
    "        with open(filepath) as csvfile:\n",
    "            entries = csv.reader(csvfile, delimiter=',')\n",
    "            entries = list(entries)\n",
    "            for entry in entries:\n",
    "                t = int(entry[0])\n",
    "                r = int(entry[1])\n",
    "                c = int(entry[2])\n",
    "                val = float(entry[3])\n",
    "                timeGrid[t][r][c] = val\n",
    "                \n",
    "    return timeGrid\n"
   ]
  },
  {
   "cell_type": "code",
   "execution_count": null,
   "metadata": {},
   "outputs": [],
   "source": [
    "def make_the_new_input_file(temp_grid, numProcs, numCells, filename):\n",
    "    P = int((pow(numProcs, 0.5)))\n",
    "    N = int((pow(numCells, 0.5)))\n",
    "    arrSize = P*N\n",
    "    f = open(filename, \"w\")\n",
    "    f.seek(0)\n",
    "    for r in range(arrSize):\n",
    "        for c in range(arrSize):\n",
    "            f.write(str(temp_grid[0][r][c]) + \"\\n\")\n",
    "    f.close()\n",
    "    return"
   ]
  }
 ],
 "metadata": {
  "kernelspec": {
   "display_name": "Python 3",
   "language": "python",
   "name": "python3"
  },
  "language_info": {
   "codemirror_mode": {
    "name": "ipython",
    "version": 3
   },
   "file_extension": ".py",
   "mimetype": "text/x-python",
   "name": "python",
   "nbconvert_exporter": "python",
   "pygments_lexer": "ipython3",
   "version": "3.5.2"
  }
 },
 "nbformat": 4,
 "nbformat_minor": 4
}
